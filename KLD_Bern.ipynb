{
 "cells": [
  {
   "cell_type": "code",
   "execution_count": null,
   "id": "f67e9d67-a671-499c-a81c-3251b1b5c398",
   "metadata": {},
   "outputs": [],
   "source": []
  },
  {
   "cell_type": "code",
   "execution_count": 17,
   "id": "e9250efa-6cd7-4d38-b3f7-b6456d53d4a9",
   "metadata": {},
   "outputs": [],
   "source": [
    "import numpy as np\n",
    "\n",
    "def bernoulli_kld(p, q):\n",
    "    kld = np.sum(p * np.log(p/q) + (1 - p) * np.log((1 - p)/(1 - q)))\n",
    "    return kld\n",
    "\n",
    "def bernoulli_reparam_kld(p, q_mean, q_logvar):\n",
    "    eps = np.random.normal(size=q_mean.shape)\n",
    "    q = sigmoid(q_mean + np.exp(0.5 * q_logvar) * eps)\n",
    "    kld = bernoulli_kld(p, q) - 0.5 * np.sum(1 + q_logvar - q_mean**2 - np.exp(q_logvar))\n",
    "    return kld\n",
    "\n",
    "def sigmoid(x):\n",
    "    return 1 / (1 + np.exp(-x))\n",
    "\n"
   ]
  },
  {
   "cell_type": "code",
   "execution_count": 3,
   "id": "c4087cab-57e7-44e9-92a4-9411fd8dc330",
   "metadata": {},
   "outputs": [
    {
     "data": {
      "text/plain": [
       "array([-4.60517019, -3.21887582])"
      ]
     },
     "execution_count": 3,
     "metadata": {},
     "output_type": "execute_result"
    }
   ],
   "source": [
    "q_logvar"
   ]
  },
  {
   "cell_type": "code",
   "execution_count": null,
   "id": "58ecb5da-6af2-4df8-95b2-d68497d2d9f2",
   "metadata": {},
   "outputs": [],
   "source": [
    "# Example usage\n",
    "p = np.array([0.2, 0.8])\n",
    "q_mean = np.array([0.3, 0.7])\n",
    "q_logvar = np.log(np.array([0.1, 0.2])**2)\n",
    "kld = bernoulli_reparam_kld(p, q_mean, q_logvar)\n",
    "print(kld)"
   ]
  },
  {
   "cell_type": "code",
   "execution_count": null,
   "id": "95ba9cd6-c212-4c29-b972-c3206bee144a",
   "metadata": {},
   "outputs": [],
   "source": []
  },
  {
   "cell_type": "code",
   "execution_count": null,
   "id": "0400205a-934b-4de9-91eb-1bf8f6200308",
   "metadata": {},
   "outputs": [],
   "source": []
  },
  {
   "cell_type": "code",
   "execution_count": 5,
   "id": "8fe04f4f-ecea-4502-8020-2a96fe5cbf7b",
   "metadata": {},
   "outputs": [],
   "source": []
  },
  {
   "cell_type": "code",
   "execution_count": null,
   "id": "e70a76c6-873b-4593-bd6b-90577a88f94d",
   "metadata": {},
   "outputs": [],
   "source": []
  },
  {
   "cell_type": "markdown",
   "id": "f9fb746d-ea75-459c-b2f0-f5e2ff7a1377",
   "metadata": {},
   "source": [
    "#### https://davidstutz.de/bernoulli-variational-auto-encoder-in-torch/"
   ]
  },
  {
   "cell_type": "code",
   "execution_count": 24,
   "id": "0f9ec8ae-bd34-40e8-ac7e-25324ea7e493",
   "metadata": {},
   "outputs": [],
   "source": [
    "import tensorflow as tf "
   ]
  },
  {
   "cell_type": "code",
   "execution_count": 23,
   "id": "a0dad70b-fc47-4d40-aeae-6125208d1e55",
   "metadata": {},
   "outputs": [
    {
     "data": {
      "text/plain": [
       "<tf.Tensor: shape=(), dtype=float32, numpy=0.0>"
      ]
     },
     "execution_count": 23,
     "metadata": {},
     "output_type": "execute_result"
    }
   ],
   "source": [
    "pred_y= 0.5\n",
    "y = 0.5 # 가설 분포값 fixed\n",
    "\n",
    "tf.math.log(pred_y) - tf.math.log(y) + tf.math.log(1-pred_y) - tf.math.log(1-y) \n"
   ]
  },
  {
   "cell_type": "code",
   "execution_count": null,
   "id": "0cb75856-3fa2-4cf8-9d61-63fe496e7e28",
   "metadata": {},
   "outputs": [],
   "source": [
    "zi=g(y,ϵ)=σ(lnϵ−ln(1−ϵ)+lnθi(y)−ln(1−θi(y)))"
   ]
  },
  {
   "cell_type": "code",
   "execution_count": 5,
   "id": "86c1d9aa-c943-453c-9c53-d1448a82c8ec",
   "metadata": {},
   "outputs": [
    {
     "name": "stdout",
     "output_type": "stream",
     "text": [
      "tf.Tensor(\n",
      "[[0.87516546 0.5491649  0.17724568 0.952958   0.54801315 0.26864618\n",
      "  0.6722696  0.7926336  0.47837663 0.80601096]], shape=(1, 10), dtype=float32)\n"
     ]
    }
   ],
   "source": [
    "import tensorflow as tf\n",
    "\n",
    "def compute_z(theta, y, eps):\n",
    "    log_eps = tf.math.log(eps)\n",
    "    log_one_minus_eps = tf.math.log(1 - eps)\n",
    "    log_theta = tf.math.log(theta(y))\n",
    "    log_one_minus_theta = tf.math.log(1 - theta(y))\n",
    "    logit = log_eps - log_one_minus_eps + log_theta - log_one_minus_theta\n",
    "    return tf.math.sigmoid(logit)\n",
    "\n",
    "# Example usage\n",
    "theta = tf.keras.Sequential([tf.keras.layers.Dense(10), tf.keras.layers.Dense(1, activation='sigmoid')])\n",
    "y = tf.ones((1, 10)) * 0.001\n",
    "eps = tf.random.uniform((1, 10))\n",
    "z = compute_z(theta, y, eps)\n",
    "print(z)"
   ]
  },
  {
   "cell_type": "code",
   "execution_count": null,
   "id": "7910420e-04dd-4916-ac61-1360f7f6f96c",
   "metadata": {},
   "outputs": [],
   "source": []
  },
  {
   "cell_type": "code",
   "execution_count": 1,
   "id": "89637861-eb2d-48a5-a193-6d0ea2d7ad94",
   "metadata": {},
   "outputs": [],
   "source": [
    "import tensorflow_probability as tfp\n",
    "x = tfp.distributions.Bernoulli(probs=0.7).sample(sample_shape=(10, 10))"
   ]
  },
  {
   "cell_type": "code",
   "execution_count": 15,
   "id": "c9863c67-1763-4cc5-bdbc-2c36a8f063a8",
   "metadata": {},
   "outputs": [
    {
     "data": {
      "text/plain": [
       "<tf.Tensor: shape=(10,), dtype=int32, numpy=array([0, 1, 1, 1, 1, 0, 1, 1, 1, 1])>"
      ]
     },
     "execution_count": 15,
     "metadata": {},
     "output_type": "execute_result"
    }
   ],
   "source": [
    "tfp.distributions.Bernoulli(probs=0.7).sample(10)"
   ]
  }
 ],
 "metadata": {
  "kernelspec": {
   "display_name": "Python 3 (ipykernel)",
   "language": "python",
   "name": "python3"
  },
  "language_info": {
   "codemirror_mode": {
    "name": "ipython",
    "version": 3
   },
   "file_extension": ".py",
   "mimetype": "text/x-python",
   "name": "python",
   "nbconvert_exporter": "python",
   "pygments_lexer": "ipython3",
   "version": "3.8.13"
  }
 },
 "nbformat": 4,
 "nbformat_minor": 5
}
