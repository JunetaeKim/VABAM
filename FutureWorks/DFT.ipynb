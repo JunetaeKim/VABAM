{
 "cells": [
  {
   "cell_type": "markdown",
   "id": "2878fa4f-200c-4531-9b7d-6b71fbfb849e",
   "metadata": {},
   "source": [
    "The Discrete Fourier Transform (DFT) of a sequence is defined by the formula:\n",
    "\n",
    "$$ X[k] = \\sum_{n=0}^{N-1} x[n] \\cdot e^{-j\\frac{2\\pi}{N}kn} $$\n",
    "\n",
    "where:\n",
    "- $N$ is the number of samples,\n",
    "- $x[n]$ is the $n$-th sample in the time domain,\n",
    "- $X[k]$ is the result of the DFT, representing the frequency domain,\n",
    "- $k$ is the index in the frequency domain ranging from 0 to $N-1$,\n",
    "- $j$ is the imaginary unit.\n",
    "\n",
    "The code performs the following steps:\n",
    "1. Determine the number of samples $N$ from the size of the input array `x`.\n",
    "2. Create an array `n` which is a sequence of integers from 0 to $N-1$ that represent the sample indices.\n",
    "3. Reshape `n` into a column vector `k` to facilitate matrix multiplication.\n",
    "4. Construct the DFT matrix `M` using the exponential function, which encapsulates the complex sinusoids for the DFT.\n",
    "5. Compute the DFT by multiplying the matrix `M` with the input array `x`.\n",
    "\n",
    "The output is an array of complex numbers where each element corresponds to a specific frequency component:\n",
    "- The first element is the DC component, which represents the average value of the signal.\n",
    "- The following elements represent the signal's content at increasing frequencies, with the magnitude indicating the amplitude and the angle indicating the phase shift of each frequency component.\n"
   ]
  },
  {
   "cell_type": "code",
   "execution_count": 22,
   "id": "1e644cf1-11c5-48aa-81b6-d21efb3a499f",
   "metadata": {},
   "outputs": [
    {
     "data": {
      "text/plain": [
       "array([[ 3. +0.j        , -1.5+0.8660254j , -1.5-0.8660254j ],\n",
       "       [12. +0.j        ,  1.5-2.59807621j,  1.5+2.59807621j]])"
      ]
     },
     "execution_count": 22,
     "metadata": {},
     "output_type": "execute_result"
    }
   ],
   "source": [
    "import numpy as np\n",
    "\n",
    "def DFT_multi_samples(x):\n",
    "    \"\"\"\n",
    "    Compute the Discrete Fourier Transform (DFT) for multiple samples.\n",
    "    \n",
    "    :param x: 2D array where each row is a sample sequence\n",
    "    :return: 2D array where each row is the DFT of the corresponding sequence\n",
    "    \"\"\"\n",
    "    N = x.shape[1]  # Number of samples per sequence (assuming each sequence is along the second axis)\n",
    "    n = np.arange(N)\n",
    "    k = n.reshape((N, 1))\n",
    "    M = np.exp(-2j * np.pi * k * n / N)\n",
    "    return np.dot(x, M.T)  # Matrix multiplication with the transpose of M\n",
    "\n",
    "# Example usage with multiple samples:\n",
    "x_multi = np.array([[0, 1, 2], [5, 5, 2]])  # Two sample sequences\n",
    "dft_multi = DFT_multi_samples(x_multi)\n",
    "dft_multi"
   ]
  },
  {
   "cell_type": "code",
   "execution_count": null,
   "id": "17dd63f3-dac1-4ed0-8f67-a02c78b1b16a",
   "metadata": {},
   "outputs": [],
   "source": []
  },
  {
   "cell_type": "code",
   "execution_count": null,
   "id": "3ef40cec-df72-47c6-b3cf-41a5655a4c43",
   "metadata": {},
   "outputs": [],
   "source": []
  },
  {
   "cell_type": "markdown",
   "id": "5ca05a5e-cd02-45f6-8995-22b6df3bbc93",
   "metadata": {},
   "source": [
    "# Discrete Fourier Transform (DFT) Calculation for Multiple Samples\n",
    "\n",
    "When we have multiple time-domain sample sequences, we can apply the Discrete Fourier Transform (DFT) to each sequence to convert them into their frequency-domain representations. The process for calculating the DFT for multiple samples is outlined below, with numerical substitutions to illustrate the steps:\n",
    "\n",
    "## Step 1: Define the DFT Equation\n",
    "\n",
    "The DFT for a single sample sequence is given by the equation:\n",
    "\n",
    "$$ X[k] = \\sum_{n=0}^{N-1} x[n] \\cdot e^{-j\\frac{2\\pi}{N}kn} $$\n",
    "\n",
    "## Step 2: Extend to Multiple Samples\n",
    "\n",
    "For multiple samples, the DFT is calculated for each sequence individually. Consider two sample sequences:\n",
    "\n",
    "$$ x_{multi} = \\begin{bmatrix}\n",
    "0 & 1 & 2 & 3 \\\\\n",
    "4 & 5 & 6 & 7 \\\\\n",
    "\\end{bmatrix} $$\n",
    "\n",
    "## Step 3: Calculate the DFT Matrix\n",
    "\n",
    "Construct the DFT matrix $M$ for $N=4$ (since we have 4 points in each sequence):\n",
    "\n",
    "$$ M = \\begin{bmatrix}\n",
    "e^{-j\\frac{2\\pi}{4}0\\cdot0} & e^{-j\\frac{2\\pi}{4}0\\cdot1} & e^{-j\\frac{2\\pi}{4}0\\cdot2} & e^{-j\\frac{2\\pi}{4}0\\cdot3} \\\\\n",
    "e^{-j\\frac{2\\pi}{4}1\\cdot0} & e^{-j\\frac{2\\pi}{4}1\\cdot1} & e^{-j\\frac{2\\pi}{4}1\\cdot2} & e^{-j\\frac{2\\pi}{4}1\\cdot3} \\\\\n",
    "e^{-j\\frac{2\\pi}{4}2\\cdot0} & e^{-j\\frac{2\\pi}{4}2\\cdot1} & e^{-j\\frac{2\\pi}{4}2\\cdot2} & e^{-j\\frac{2\\pi}{4}2\\cdot3} \\\\\n",
    "e^{-j\\frac{2\\pi}{4}3\\cdot0} & e^{-j\\frac{2\\pi}{4}3\\cdot1} & e^{-j\\frac{2\\pi}{4}3\\cdot2} & e^{-j\\frac{2\\pi}{4}3\\cdot3} \\\\\n",
    "\\end{bmatrix} $$\n",
    "\n",
    "## Step 4: Perform Matrix Multiplication\n",
    "\n",
    "For each sample sequence $x[m]$, compute the DFT by multiplying with the transpose of the DFT matrix:\n",
    "\n",
    "$$ X_{multi}[m] = x_{multi}[m] \\cdot M^T $$\n",
    "\n",
    "## Step 5: Numerical Example\n",
    "\n",
    "Let's calculate the DFT for the first sequence $[0, 1, 2, 3]$:\n",
    "\n",
    "$$ X[0] = (0 \\cdot 1 + 1 \\cdot 1 + 2 \\cdot 1 + 3 \\cdot 1) = 6 $$\n",
    "$$ X[1] = (0 \\cdot 1 + 1 \\cdot (-j) + 2 \\cdot (-1) + 3 \\cdot j) = -2 + 2j $$\n",
    "$$ X[2] = (0 \\cdot 1 + 1 \\cdot (-1) + 2 \\cdot 1 + 3 \\cdot (-1)) = -2 $$\n",
    "$$ X[3] = (0 \\cdot 1 + 1 \\cdot j + 2 \\cdot (-1) + 3 \\cdot (-j)) = -2 - 2j $$\n",
    "\n",
    "Perform the same calculation for the second sequence $[4, 5, 6, 7]$.\n",
    "\n",
    "## Conclusion\n",
    "\n",
    "By substituting the values of $n$, $k$, and $x[n]$ into the DFT equation and computing the sum, we can find the frequency-domain representation for each time-domain sample sequence.\n"
   ]
  },
  {
   "cell_type": "code",
   "execution_count": null,
   "id": "0c832187-154e-4000-9646-782e6b58d8ca",
   "metadata": {},
   "outputs": [],
   "source": []
  },
  {
   "cell_type": "markdown",
   "id": "b893b472-821c-4a96-803b-ffcb1e4065e7",
   "metadata": {},
   "source": [
    "# Fast Fourier Transform (FFT)\n",
    "\n",
    "The Fast Fourier Transform (FFT) is an algorithm that computes the Discrete Fourier Transform (DFT) of a sequence, or its inverse, efficiently.\n",
    "\n",
    "## DFT Definition\n",
    "\n",
    "The DFT is defined as:\n",
    "\n",
    "$$ X[k] = \\sum_{n=0}^{N-1} x[n] \\cdot e^{-j\\frac{2\\pi}{N}kn} $$\n",
    "\n",
    "where:\n",
    "- \\( N \\) is the sample size,\n",
    "- \\( x[n] \\) is the input sequence,\n",
    "- \\( X[k] \\) is the output sequence,\n",
    "- \\( k \\) ranges from 0 to \\( N-1 \\).\n",
    "\n",
    "## Cooley-Tukey FFT Algorithm\n",
    "\n",
    "The Cooley-Tukey FFT algorithm exploits the periodicity and symmetry properties of the DFT.\n",
    "\n",
    "### Radix-2 Decimation-In-Time (DIT) FFT\n",
    "\n",
    "For a sequence of size \\( N \\), which is a power of 2 (i.e., \\( N = 2^m \\)), the DFT can be divided into two smaller DFTs:\n",
    "\n",
    "1. DFT of the even-indexed part of the sequence.\n",
    "2. DFT of the odd-indexed part of the sequence.\n",
    "\n",
    "This process is recursively applied to break the DFT into smaller DFTs until the size becomes 1.\n",
    "\n",
    "## FFT Python Implementation (without using `np.fft`)\n",
    "\n",
    "Here's a Python function implementing a simple recursive FFT algorithm:\n",
    "\n",
    "\n"
   ]
  },
  {
   "cell_type": "code",
   "execution_count": 20,
   "id": "ac2f83e3-3091-4ba1-a5b7-e8e82be60dd5",
   "metadata": {},
   "outputs": [],
   "source": [
    "import numpy as np\n",
    "\n",
    "def FFT(x):\n",
    "    N = len(x)\n",
    "    if N <= 1:\n",
    "        return x\n",
    "    even = FFT(x[0::2])\n",
    "    odd = FFT(x[1::2])\n",
    "    T = [np.exp(-2j * np.pi * k / N) * odd[k] for k in range(N // 2)]\n",
    "    return [even[k] + T[k] for k in range(N // 2)] + [even[k] - T[k] for k in range(N // 2)]\n",
    "\n",
    "# Example usage:\n",
    "x = np.array([0, 1, 2, 3, 4, 5, 6, 7])  # Example input sequence\n",
    "fft_result = FFT(x)"
   ]
  },
  {
   "cell_type": "code",
   "execution_count": 26,
   "id": "2fa25959-63d5-4f94-ad67-cdc66d07e5bc",
   "metadata": {},
   "outputs": [
    {
     "data": {
      "text/plain": [
       "(28+0j)"
      ]
     },
     "execution_count": 26,
     "metadata": {},
     "output_type": "execute_result"
    }
   ],
   "source": [
    "fft_result[0]"
   ]
  },
  {
   "cell_type": "code",
   "execution_count": 29,
   "id": "94a84079-d2dc-4ef7-8b95-c084f70aad30",
   "metadata": {},
   "outputs": [
    {
     "name": "stdout",
     "output_type": "stream",
     "text": [
      "tf.Tensor([2. 4. 6.], shape=(3,), dtype=float64)\n"
     ]
    }
   ],
   "source": [
    "import tensorflow as tf\n",
    "\n",
    "# Make sure you have a complex data type\n",
    "complex_tensor = tf.constant([1+2j, 3+4j, 5+6j])\n",
    "\n",
    "# Extract the imaginary parts\n",
    "imaginary_parts_tf = tf.math.imag(complex_tensor)\n",
    "\n",
    "print(imaginary_parts_tf)  # Output: [2. 4. 6.]\n"
   ]
  },
  {
   "cell_type": "code",
   "execution_count": 31,
   "id": "a5462a9a-84a4-4f20-b97f-b4f76dcbcd28",
   "metadata": {},
   "outputs": [
    {
     "data": {
      "text/plain": [
       "<tf.Tensor: shape=(3,), dtype=float64, numpy=array([63.43494882, 53.13010235, 50.19442891])>"
      ]
     },
     "execution_count": 31,
     "metadata": {},
     "output_type": "execute_result"
    }
   ],
   "source": [
    "tf.math.angle(complex_tensor)*180/np.pi"
   ]
  },
  {
   "cell_type": "code",
   "execution_count": null,
   "id": "6474420c-e611-4933-95ae-2c83385b77fd",
   "metadata": {},
   "outputs": [],
   "source": []
  }
 ],
 "metadata": {
  "kernelspec": {
   "display_name": "Python 3 (ipykernel)",
   "language": "python",
   "name": "python3"
  },
  "language_info": {
   "codemirror_mode": {
    "name": "ipython",
    "version": 3
   },
   "file_extension": ".py",
   "mimetype": "text/x-python",
   "name": "python",
   "nbconvert_exporter": "python",
   "pygments_lexer": "ipython3",
   "version": "3.9.18"
  }
 },
 "nbformat": 4,
 "nbformat_minor": 5
}
