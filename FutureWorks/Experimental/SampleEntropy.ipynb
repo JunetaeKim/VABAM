{
 "cells": [
  {
   "cell_type": "code",
   "execution_count": 5,
   "metadata": {},
   "outputs": [],
   "source": [
    "import numpy as np"
   ]
  },
  {
   "cell_type": "code",
   "execution_count": 7,
   "metadata": {},
   "outputs": [],
   "source": [
    "np.random.seed(42)\n",
    "N = 1000\n",
    "L = np.random.normal(size=N)\n",
    "\n",
    "# Step 2: Set parameters\n",
    "m = 2\n",
    "r = 0.2 * np.std(y)  # tolerance"
   ]
  },
  {
   "cell_type": "code",
   "execution_count": 11,
   "metadata": {},
   "outputs": [
    {
     "data": {
      "text/plain": [
       "2.0864394708674805"
      ]
     },
     "execution_count": 11,
     "metadata": {},
     "output_type": "execute_result"
    }
   ],
   "source": [
    "N = len(L)\n",
    "B = 0.0\n",
    "A = 0.0\n",
    "\n",
    "# Split time series and save all templates of length m\n",
    "xmi = np.array([L[i : i + m] for i in range(N - m)])\n",
    "xmj = np.array([L[i : i + m] for i in range(N - m + 1)])\n",
    "\n",
    "# Save all matches minus the self-match, compute B\n",
    "B = np.sum([np.sum(np.abs(xmii - xmj).max(axis=1) <= r) - 1 for xmii in xmi])\n",
    "\n",
    "# Similar for computing A\n",
    "m += 1\n",
    "xm = np.array([L[i : i + m] for i in range(N - m + 1)])\n",
    "\n",
    "A = np.sum([np.sum(np.abs(xmi - xm).max(axis=1) <= r) - 1 for xmi in xm])\n",
    "\n",
    "-np.log(A / B)"
   ]
  },
  {
   "cell_type": "code",
   "execution_count": null,
   "metadata": {},
   "outputs": [],
   "source": []
  },
  {
   "cell_type": "code",
   "execution_count": 29,
   "metadata": {},
   "outputs": [
    {
     "data": {
      "text/plain": [
       "array([ 0.20838281, -2.04173487, -0.24717738, -0.68198425, -1.00162001,\n",
       "       -0.28110029,  1.79768653,  0.64084286, -0.57117899,  0.57258278])"
      ]
     },
     "execution_count": 29,
     "metadata": {},
     "output_type": "execute_result"
    }
   ],
   "source": [
    "L[-10:]"
   ]
  },
  {
   "cell_type": "code",
   "execution_count": 28,
   "metadata": {},
   "outputs": [
    {
     "data": {
      "text/plain": [
       "array([ 1.79768653,  0.64084286, -0.57117899])"
      ]
     },
     "execution_count": 28,
     "metadata": {},
     "output_type": "execute_result"
    }
   ],
   "source": [
    "xmi[-1]"
   ]
  },
  {
   "cell_type": "code",
   "execution_count": 27,
   "metadata": {},
   "outputs": [
    {
     "data": {
      "text/plain": [
       "array([ 0.64084286, -0.57117899,  0.57258278])"
      ]
     },
     "execution_count": 27,
     "metadata": {},
     "output_type": "execute_result"
    }
   ],
   "source": [
    "xmj[-1]"
   ]
  },
  {
   "cell_type": "code",
   "execution_count": null,
   "metadata": {},
   "outputs": [],
   "source": []
  },
  {
   "cell_type": "code",
   "execution_count": 31,
   "metadata": {},
   "outputs": [
    {
     "ename": "ValueError",
     "evalue": "operands could not be broadcast together with shapes (98,) (99,) ",
     "output_type": "error",
     "traceback": [
      "\u001b[1;31m---------------------------------------------------------------------------\u001b[0m",
      "\u001b[1;31mValueError\u001b[0m                                Traceback (most recent call last)",
      "\u001b[1;32m<ipython-input-31-26a0d7fd28f4>\u001b[0m in \u001b[0;36m<module>\u001b[1;34m\u001b[0m\n\u001b[0;32m     29\u001b[0m \u001b[1;33m\u001b[0m\u001b[0m\n\u001b[0;32m     30\u001b[0m \u001b[1;31m# 샘플 엔트로피 계산\u001b[0m\u001b[1;33m\u001b[0m\u001b[1;33m\u001b[0m\u001b[1;33m\u001b[0m\u001b[0m\n\u001b[1;32m---> 31\u001b[1;33m \u001b[0msample_entropy\u001b[0m \u001b[1;33m=\u001b[0m \u001b[0mnp\u001b[0m\u001b[1;33m.\u001b[0m\u001b[0mlog\u001b[0m\u001b[1;33m(\u001b[0m\u001b[0mA\u001b[0m\u001b[1;33m/\u001b[0m\u001b[0mB\u001b[0m\u001b[1;33m)\u001b[0m\u001b[1;33m.\u001b[0m\u001b[0mmean\u001b[0m\u001b[1;33m(\u001b[0m\u001b[1;33m)\u001b[0m\u001b[1;33m\u001b[0m\u001b[1;33m\u001b[0m\u001b[0m\n\u001b[0m\u001b[0;32m     32\u001b[0m \u001b[1;33m\u001b[0m\u001b[0m\n\u001b[0;32m     33\u001b[0m \u001b[0mprint\u001b[0m\u001b[1;33m(\u001b[0m\u001b[1;34mf'Sample Entropy: {sample_entropy}'\u001b[0m\u001b[1;33m)\u001b[0m\u001b[1;33m\u001b[0m\u001b[1;33m\u001b[0m\u001b[0m\n",
      "\u001b[1;31mValueError\u001b[0m: operands could not be broadcast together with shapes (98,) (99,) "
     ]
    }
   ],
   "source": [
    "import numpy as np\n",
    "\n",
    "# 시계열 데이터셋 생성 (0 ~ 1 사이의 무작위 100개의 숫자)\n",
    "data = np.random.rand(100)\n",
    "\n",
    "# 샘플 엔트로피를 계산하기 위한 초기값 설정\n",
    "m = 2\n",
    "r = 0.2\n",
    "N = len(data)\n",
    "\n",
    "# 데이터를 m-길이의 벡터로 변환\n",
    "vectors = [data[i:i+m] for i in range(N-m+1)]\n",
    "\n",
    "# 각 벡터 간의 거리 계산 및 거리가 r 이내인 벡터의 개수 세기\n",
    "A = np.zeros(len(vectors))\n",
    "B = np.zeros(len(vectors))\n",
    "\n",
    "for i in range(len(vectors)):\n",
    "    for j in range(i, len(vectors)):\n",
    "        dist = np.abs(vectors[i] - vectors[j]).max()\n",
    "        if dist < r:\n",
    "            B[i] += 1\n",
    "            if j < len(vectors) - 1:\n",
    "                A[i] += 1\n",
    "\n",
    "# A와 B에서 0을 제외\n",
    "A = A[A!=0]\n",
    "B = B[B!=0]\n",
    "\n",
    "# 샘플 엔트로피 계산\n",
    "sample_entropy = np.log(A/B).mean()\n",
    "\n",
    "print(f'Sample Entropy: {sample_entropy}')"
   ]
  },
  {
   "cell_type": "code",
   "execution_count": null,
   "metadata": {},
   "outputs": [],
   "source": []
  }
 ],
 "metadata": {
  "kernelspec": {
   "display_name": "Python 3",
   "language": "python",
   "name": "python3"
  },
  "language_info": {
   "codemirror_mode": {
    "name": "ipython",
    "version": 3
   },
   "file_extension": ".py",
   "mimetype": "text/x-python",
   "name": "python",
   "nbconvert_exporter": "python",
   "pygments_lexer": "ipython3",
   "version": "3.8.5"
  }
 },
 "nbformat": 4,
 "nbformat_minor": 4
}
